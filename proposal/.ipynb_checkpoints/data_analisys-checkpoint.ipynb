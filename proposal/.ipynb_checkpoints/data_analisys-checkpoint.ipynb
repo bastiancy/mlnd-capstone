{
 "cells": [
  {
   "cell_type": "markdown",
   "metadata": {},
   "source": [
    "## Conll 2002 Data Analisys\n",
    "\n",
    "Analisis of the dataset..\n"
   ]
  },
  {
   "cell_type": "code",
   "execution_count": 85,
   "metadata": {},
   "outputs": [],
   "source": [
    "from __future__ import absolute_import\n",
    "from __future__ import division\n",
    "from __future__ import print_function\n",
    "\n",
    "import collections\n",
    "import os\n",
    "import sys\n",
    "import matplotlib.pyplot as plt\n",
    "import numpy as np"
   ]
  },
  {
   "cell_type": "code",
   "execution_count": 39,
   "metadata": {},
   "outputs": [],
   "source": [
    "\n",
    "def read_words(filename):\n",
    "    with open(filename, \"r\") as f:\n",
    "        words = []\n",
    "        i = 1\n",
    "        for line in f:\n",
    "            data = line.split()\n",
    "            if len(data) > 0:\n",
    "                words.append((i, data[0], data[1], data[2]))\n",
    "            else:\n",
    "                words.append((i, '<eol>', '', ''))\n",
    "            i += 1\n",
    "        return words\n",
    "\n",
    "def get_phrases(words):\n",
    "    phrases = []\n",
    "    phrase = []\n",
    "    i = 1\n",
    "    for word in words:\n",
    "        if word[1] == '<eol>':\n",
    "            phrases.append((i, phrase))\n",
    "            phrase = []\n",
    "            i += 1\n",
    "        else:\n",
    "            phrase.append(word)\n",
    "    return phrases\n"
   ]
  },
  {
   "cell_type": "code",
   "execution_count": 64,
   "metadata": {},
   "outputs": [
    {
     "name": "stdout",
     "output_type": "stream",
     "text": [
      "testa: 54838 words, 1915 phrases\n",
      "testb: 53050 words, 1517 phrases\n",
      "train: 273038 words, 8323 phrases\n"
     ]
    }
   ],
   "source": [
    "testa_words = read_words('conll2002/esp.testa')\n",
    "testb_words = read_words('conll2002/esp.testb')\n",
    "train_words = read_words('conll2002/esp.train')\n",
    "\n",
    "testa_phrases = get_phrases(testa_words)\n",
    "testb_phrases = get_phrases(testb_words)\n",
    "train_phrases = get_phrases(train_words)\n",
    "\n",
    "print(\"testa: {} words, {} phrases\".format(len(testa_words), len(testa_phrases)))\n",
    "print(\"testb: {} words, {} phrases\".format(len(testb_words), len(testb_phrases)))\n",
    "print(\"train: {} words, {} phrases\".format(len(train_words), len(train_phrases)))"
   ]
  },
  {
   "cell_type": "code",
   "execution_count": 80,
   "metadata": {},
   "outputs": [
    {
     "name": "stdout",
     "output_type": "stream",
     "text": [
      "testa: 40656 words, 2895 phrases\n",
      "testb: 74189 words, 5195 phrases\n",
      "train: 218737 words, 15806 phrases\n"
     ]
    }
   ],
   "source": [
    "testa_words = read_words('conll2002/ned.testa')\n",
    "testb_words = read_words('conll2002/ned.testb')\n",
    "train_words = read_words('conll2002/ned.train')\n",
    "\n",
    "testa_phrases = get_phrases(testa_words)\n",
    "testb_phrases = get_phrases(testb_words)\n",
    "train_phrases = get_phrases(train_words)\n",
    "\n",
    "print(\"testa: {} words, {} phrases\".format(len(testa_words), len(testa_phrases)))\n",
    "print(\"testb: {} words, {} phrases\".format(len(testb_words), len(testb_phrases)))\n",
    "print(\"train: {} words, {} phrases\".format(len(train_words), len(train_phrases)))"
   ]
  },
  {
   "cell_type": "code",
   "execution_count": 72,
   "metadata": {
    "scrolled": true
   },
   "outputs": [
    {
     "data": {
      "text/plain": [
       "(1,\n",
       " [(1, 'Sao', 'NC', 'B-LOC'),\n",
       "  (2, 'Paulo', 'VMI', 'I-LOC'),\n",
       "  (3, '(', 'Fpa', 'O'),\n",
       "  (4, 'Brasil', 'NC', 'B-LOC'),\n",
       "  (5, ')', 'Fpt', 'O'),\n",
       "  (6, ',', 'Fc', 'O'),\n",
       "  (7, '23', 'Z', 'O'),\n",
       "  (8, 'may', 'NC', 'O'),\n",
       "  (9, '(', 'Fpa', 'O'),\n",
       "  (10, 'EFECOM', 'NP', 'B-ORG'),\n",
       "  (11, ')', 'Fpt', 'O'),\n",
       "  (12, '.', 'Fp', 'O')])"
      ]
     },
     "execution_count": 72,
     "metadata": {},
     "output_type": "execute_result"
    }
   ],
   "source": [
    "testa_phrases[0]"
   ]
  },
  {
   "cell_type": "code",
   "execution_count": 83,
   "metadata": {},
   "outputs": [],
   "source": [
    "\n",
    "def build_vocab(words):\n",
    "    counter = collections.Counter()\n",
    "    for word in words:\n",
    "        if word[1] != '<eol>':\n",
    "            counter[word[1]] += 1\n",
    "    \n",
    "    count_pairs = sorted(counter.items(), key=lambda x: (-x[1], x[0]))\n",
    "    words, _ = list(zip(*count_pairs))\n",
    "    word_to_id = dict(zip(words, range(len(words))))\n",
    "\n",
    "    return word_to_id, count_pairs\n"
   ]
  },
  {
   "cell_type": "code",
   "execution_count": 84,
   "metadata": {},
   "outputs": [
    {
     "data": {
      "text/plain": [
       "35836"
      ]
     },
     "execution_count": 84,
     "metadata": {},
     "output_type": "execute_result"
    }
   ],
   "source": [
    "vocab, _ = build_vocab(testa_words + testb_words + train_words)\n",
    "len(vocab)"
   ]
  },
  {
   "cell_type": "code",
   "execution_count": 81,
   "metadata": {},
   "outputs": [],
   "source": [
    "\n",
    "def count_clases(words):\n",
    "    counter = collections.Counter()\n",
    "    for word in words:\n",
    "        if word[1] != '<eol>':\n",
    "            counter[word[3]] += 1\n",
    "    \n",
    "    count_pairs = sorted(counter.items(), key=lambda x: (-x[1], x[0]))\n",
    "\n",
    "    return count_pairs\n"
   ]
  },
  {
   "cell_type": "code",
   "execution_count": 82,
   "metadata": {},
   "outputs": [
    {
     "data": {
      "text/plain": [
       "[('O', 183628),\n",
       " ('B-PER', 4716),\n",
       " ('B-MISC', 3336),\n",
       " ('B-LOC', 3208),\n",
       " ('I-PER', 2883),\n",
       " ('B-ORG', 2082),\n",
       " ('I-MISC', 1405),\n",
       " ('I-ORG', 1199),\n",
       " ('I-LOC', 467),\n",
       " ('N', 6),\n",
       " ('V', 1)]"
      ]
     },
     "execution_count": 82,
     "metadata": {},
     "output_type": "execute_result"
    }
   ],
   "source": [
    "count_clases(train_words)"
   ]
  },
  {
   "cell_type": "code",
   "execution_count": 132,
   "metadata": {},
   "outputs": [
    {
     "data": {
      "image/png": "[encoded data removed]",
      "text/plain": [
       "<Figure size 432x288 with 1 Axes>"
      ]
     },
     "metadata": {},
     "output_type": "display_data"
    }
   ],
   "source": [
    "\n",
    "def subcategorybar(X, vals, legend, width=0.8):\n",
    "    n = len(vals)\n",
    "    _X = np.arange(len(X))\n",
    "    for i in range(n):\n",
    "        plt.bar(_X - width/2. + i/float(n)*width, vals[i], \n",
    "                width=width/float(n), align=\"edge\")   \n",
    "    plt.xticks(_X, X)\n",
    "    plt.legend(legend)\n",
    "\n",
    "\n",
    "# | file       | ORG   | LOC   | PER   | MISC  |\n",
    "# | ---------- | ----- | ----- | ----- | ----- |\n",
    "# | ned.train  | 2082  | 3208  | 4716  | 3336  |\n",
    "# | spa.train  | 7390  | 4913  | 4321  | 2173  |\n",
    "\n",
    "ned = [2082, 3208, 4716, 3336]\n",
    "spa = [7390, 4913, 4321, 2173]\n",
    "    \n",
    "plt.figure()\n",
    "subcategorybar(['ORG', 'LOC', 'PER', 'MISC'], [ned, spa], ['ned', 'spa'])\n",
    "plt.title('Category ditribution')\n",
    "plt.show()"
   ]
  },
  {
   "cell_type": "code",
   "execution_count": null,
   "metadata": {},
   "outputs": [],
   "source": []
  }
 ],
 "metadata": {
  "hide_input": false,
  "kernelspec": {
   "display_name": "Python 3",
   "language": "python",
   "name": "python3"
  },
  "language_info": {
   "codemirror_mode": {
    "name": "ipython",
    "version": 3
   },
   "file_extension": ".py",
   "mimetype": "text/x-python",
   "name": "python",
   "nbconvert_exporter": "python",
   "pygments_lexer": "ipython3",
   "version": "3.6.5"
  }
 },
 "nbformat": 4,
 "nbformat_minor": 2
}
